{
 "cells": [
  {
   "cell_type": "markdown",
   "metadata": {},
   "source": [
    "# <font color='blue'>Data Science Academy - Python Fundamentos - Capítulo 6</font>\n",
    "\n",
    "## Download: http://github.com/dsacademybr"
   ]
  },
  {
   "cell_type": "markdown",
   "metadata": {},
   "source": [
    "### Gráficos"
   ]
  },
  {
   "cell_type": "code",
   "execution_count": 3,
   "metadata": {},
   "outputs": [],
   "source": [
    "import sqlite3\n",
    "import random\n",
    "import datetime\n",
    "import matplotlib.pyplot as plt\n",
    "%matplotlib notebook\n",
    " \n",
    "# Criando uma conexão\n",
    "conn = sqlite3.connect('dsa.db')   \n",
    "\n",
    "# Criando um cursor\n",
    "c = conn.cursor()\n",
    " \n",
    "# Função para criar uma tabela\n",
    "def create_table():\n",
    "    c.execute('CREATE TABLE IF NOT EXISTS produtos(id INTEGER PRIMARY KEY AUTOINCREMENT NOT NULL, date TEXT, '\\\n",
    "              'prod_name TEXT, valor REAL)')\n",
    "     \n",
    "# Função para inserir uma linha\n",
    "def data_insert():\n",
    "    c.execute(\"INSERT INTO produtos VALUES(now, 'Teclado', 130 )\")\n",
    "    conn.commit()\n",
    "    c.close()\n",
    "    conn.close()\n",
    "    \n",
    "# Usando variáveis para inserir dados    \n",
    "def data_insert_var():\n",
    "    new_date = datetime.datetime.now()\n",
    "    new_prod_name = 'monitor'\n",
    "    new_valor = random.randrange(50,100)\n",
    "    c.execute(\"INSERT INTO produtos (date, prod_name, valor) VALUES (?, ?, ?, ?)\", \n",
    "              (new_date, new_prod_name, new_valor))\n",
    "    conn.commit()\n",
    "    \n",
    "# Leitura de dados\n",
    "def leitura_todos_dados():\n",
    "    c.execute(\"SELECT * FROM PRODUTOS\")\n",
    "    for linha in c.fetchall():\n",
    "        print(linha)\n",
    "        \n",
    "# Leitura de registros específicos\n",
    "def leitura_registros():\n",
    "    c.execute(\"SELECT * FROM PRODUTOS WHERE valor > 60.0\")\n",
    "    for linha in c.fetchall():\n",
    "        print(linha)      \n",
    "        \n",
    "# Leitura de colunas específicos\n",
    "def leitura_colunas():\n",
    "    c.execute(\"SELECT * FROM PRODUTOS\")\n",
    "    for linha in c.fetchall():\n",
    "        print(linha[3])  \n",
    "        \n",
    "# Update\n",
    "def atualiza_dados():\n",
    "    c.execute(\"UPDATE produtos SET valor = 70.00 WHERE valor > 80.0\")\n",
    "    conn.commit()\n",
    "    \n",
    "# Delete\n",
    "def remove_dados():\n",
    "    c.execute(\"DELETE FROM produtos WHERE valor = 62.0\")\n",
    "    conn.commit()\n",
    "\n",
    "# Gerar gráfico com os dados no banco de dados\n",
    "def dados_grafico():\n",
    "    c.execute(\"SELECT id, valor FROM produtos\")\n",
    "    ids = []\n",
    "    valores = []\n",
    "    dados = c.fetchall()\n",
    "    for linha in dados:\n",
    "        ids.append(linha[0])\n",
    "        valores.append(linha[1])\n",
    "        \n",
    "    plt.bar(ids, valores)\n",
    "    plt.show()"
   ]
  },
  {
   "cell_type": "code",
   "execution_count": 4,
   "metadata": {},
   "outputs": [
    {
     "data": {
      "image/png": "[encoded data removed]",
      "text/plain": [
       "<Figure size 432x288 with 1 Axes>"
      ]
     },
     "metadata": {
      "needs_background": "light"
     },
     "output_type": "display_data"
    }
   ],
   "source": [
    "# Gerando gráficos\n",
    "dados_grafico()"
   ]
  },
  {
   "cell_type": "markdown",
   "metadata": {},
   "source": [
    "# Fim"
   ]
  },
  {
   "cell_type": "markdown",
   "metadata": {},
   "source": [
    "### Obrigado - Data Science Academy - <a href=\"http://facebook.com/dsacademybr\">facebook.com/dsacademybr</a>"
   ]
  }
 ],
 "metadata": {
  "kernelspec": {
   "display_name": "Python 3",
   "language": "python",
   "name": "python3"
  },
  "language_info": {
   "codemirror_mode": {
    "name": "ipython",
    "version": 3
   },
   "file_extension": ".py",
   "mimetype": "text/x-python",
   "name": "python",
   "nbconvert_exporter": "python",
   "pygments_lexer": "ipython3",
   "version": "3.7.4"
  }
 },
 "nbformat": 4,
 "nbformat_minor": 1
}
